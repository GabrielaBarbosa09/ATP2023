import random
tentativas = 0
sorteado = random.randrange(0,100)
palpite = int(input("introduza um numero"))
while palpite != sorteado:
  if palpite > sorteado:
    print("o numero que pensei é maior")
  elif palpite < sorteado:
    print("o numero que pensei é menor")
  palpite = int(input("indroduza um numero"))
  print(palpite)
  tentativas = tentativas +1
  print("acertou era o", palpite)
  print("foram usadas",tentativas,"tentativas")


import random
n = int(input("introduza um numero que sera adivinhado"))
tentativa = 0
a = random.randrange(0,101)
while n != a:
  if a<n:
    print("o numero que pensei é menor")
  elif a>n:
    print("o numero que pensei é maior")
  a = random.randrange(0,101)
  print("acertou")
  tentativa = tentativa + 1
print("o numero escolhido foi {0}, acertaste após {1} tentativas".format(n,tentativa))

