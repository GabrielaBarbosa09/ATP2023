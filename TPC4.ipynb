from functools import cache
import random
import time

lista = []

def criarLista():
    N = int(input("Quantos números terá a lista?"))
    cachedLista = []
    while N > 0:
        a = random.randrange(1,100)
        if len(lista) > 0: 
            lista.pop(len(lista)-1)
        cachedLista.append(a)
        N=N-1
    for i in cachedLista:
        lista.append(i)
    print("Criada lista:", lista)
    menu()

def listaUtilizador():
    N = int(input("Quantos números terá a lista?"))
    cachedLista = []
    while N > 0:
        a = int(input("Introduza um número"))
        if len(lista) > 0: 
            lista.pop(len(lista)-1)
        cachedLista.append(a)
        N=N-1
    for i in cachedLista:
        lista.append(i)
    print("Criada lista do utilizador:", lista)
    menu()

def somarLista():
     soma = 0
     for n in lista:
        soma = soma + n
     print("A soma da lista", lista, "é:", soma )
     menu()

def mediaLista():
     media = 0 
     soma = 0 
     for n in lista:
        soma = soma + n
        media = soma / len(lista)
     print("A média da lista é:", media)
     menu()

def maiorLista():
     res = lista[0]
     for n in lista[1:]:
        if n > res:
            res= n
     print("A maior da lista é:", res)
     menu()

def menorLista():
     res = lista[0]
     for n in lista[1:]:
        if n < res:
            res= n
     print("A menor da lista é:", res)
     menu()

def estarOrdenada():
    if sorted(lista) == lista:
        res = True
    else:
        res = False
    print("A lista está ordenada por ordem Crescente?:", res)
    menu()

def estarOrdenadaDescrescente():
    if sorted(lista, reverse=True) == lista:
        res = True
    else:
        res = False
    print("A lista está ordenada por ordem Decrescente?:", res)
    menu()
    

def procuraElemento():
    print(lista)
    n = int(input("Introduza um número para procurar"))
    if n in lista:
        print("A posição do número é, #{}".format(lista.index(n)))
    if n not in lista:
        print('Não está na lista')
    menu()

def menu():
    time.sleep(0.5)
    print('''
    -----------------------
    Menu de opções:
        (1) Criar Lista 
        (2) Ler Lista
        (3) Soma
        (4) Média
        (5) Maior
        (6) Menor
        (7) estaOrdenada por ordem crescente
        (8) estaOrdenada por ordem decrescente
        (9) Procura um elemento
        (0) Sair
    -----------------------
     ''')
    time.sleep(1)
    menuOption = int(input("Introduza um número entre 0 e 9"))
    if menuOption == 0:
        menu()
    elif menuOption == 1:
        criarLista()
    elif menuOption == 2:
        listaUtilizador()
    elif menuOption == 3:
        somarLista()
    elif menuOption == 4:
        mediaLista()
    elif menuOption == 5:
        maiorLista()
    elif menuOption == 6:
        menorLista()
    elif menuOption == 7:
        estarOrdenada()
    elif menuOption == 8:
        estarOrdenadaDescrescente()
    elif menuOption == 9:
        procuraElemento()
    
menu()